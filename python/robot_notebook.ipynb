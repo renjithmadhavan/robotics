{
 "cells": [
  {
   "cell_type": "code",
   "execution_count": 4,
   "metadata": {
    "collapsed": true
   },
   "outputs": [],
   "source": [
    "import RPi.GPIO as gpio\n",
    "#import picamera\n",
    "import time"
   ]
  },
  {
   "cell_type": "code",
   "execution_count": 2,
   "metadata": {
    "collapsed": true
   },
   "outputs": [],
   "source": [
    "def init():\n",
    "    gpio.setmode(gpio.BCM)\n",
    "    gpio.setup(17, gpio.OUT)\n",
    "    gpio.setup(22, gpio.OUT)\n",
    "    gpio.setup(23, gpio.OUT)\n",
    "    gpio.setup(24, gpio.OUT)\n",
    "def forward(tf):\n",
    "    init()\n",
    "    gpio.output(17, True)\n",
    "    gpio.output(22, False)\n",
    "    gpio.output(23, False)\n",
    "    gpio.output(24, True)\n",
    "    time.sleep(tf)\n",
    "    gpio.cleanup()\n",
    "def reverse(tf):\n",
    "    init()\n",
    "    gpio.output(17, False)\n",
    "    gpio.output(22, True)\n",
    "    gpio.output(23, True)\n",
    "    gpio.output(24, False)\n",
    "    time.sleep(tf)\n",
    "    gpio.cleanup()\n",
    "def goleft(tf):\n",
    "    init()\n",
    "    gpio.output(17, False)\n",
    "    gpio.output(22, False)\n",
    "    gpio.output(23, False)\n",
    "    gpio.output(24, True)\n",
    "    time.sleep(tf)\n",
    "    gpio.cleanup()\n",
    "def goright(tf):\n",
    "    init()\n",
    "    gpio.output(17, True)\n",
    "    gpio.output(22, False)\n",
    "    gpio.output(23, False)\n",
    "    gpio.output(24, False)\n",
    "    time.sleep(tf)\n",
    "    gpio.cleanup()"
   ]
  },
  {
   "cell_type": "code",
   "execution_count": null,
   "metadata": {
    "collapsed": true
   },
   "outputs": [],
   "source": [
    "forward(1)"
   ]
  },
  {
   "cell_type": "code",
   "execution_count": null,
   "metadata": {
    "collapsed": true
   },
   "outputs": [],
   "source": [
    "reverse(1)"
   ]
  },
  {
   "cell_type": "code",
   "execution_count": null,
   "metadata": {
    "collapsed": true
   },
   "outputs": [],
   "source": [
    "goleft(1)"
   ]
  },
  {
   "cell_type": "code",
   "execution_count": 5,
   "metadata": {
    "collapsed": true
   },
   "outputs": [],
   "source": [
    "goright(1)"
   ]
  },
  {
   "cell_type": "code",
   "execution_count": 2,
   "metadata": {
    "collapsed": true
   },
   "outputs": [],
   "source": [
    "import RPi.GPIO as GPIO\n",
    "GPIO.setmode(GPIO.BOARD)"
   ]
  },
  {
   "cell_type": "code",
   "execution_count": 12,
   "metadata": {
    "collapsed": true
   },
   "outputs": [],
   "source": [
    "GPIO.setup(7, GPIO.OUT)\n",
    "pwm=GPIO.PWM(7,50)\n",
    "pwm.start(5)"
   ]
  },
  {
   "cell_type": "code",
   "execution_count": 15,
   "metadata": {
    "collapsed": true
   },
   "outputs": [],
   "source": [
    "pwm.ChangeDutyCycle(6)"
   ]
  },
  {
   "cell_type": "code",
   "execution_count": 3,
   "metadata": {},
   "outputs": [
    {
     "name": "stderr",
     "output_type": "stream",
     "text": [
      "/usr/local/lib/python3.4/dist-packages/ipykernel_launcher.py:1: RuntimeWarning: This channel is already in use, continuing anyway.  Use GPIO.setwarnings(False) to disable warnings.\n",
      "  \"\"\"Entry point for launching an IPython kernel.\n"
     ]
    }
   ],
   "source": [
    "GPIO.setup(13, GPIO.OUT)\n",
    "pwm=GPIO.PWM(13,50)\n",
    "pwm.start(5)\n",
    "pwm.ChangeDutyCycle(2)"
   ]
  },
  {
   "cell_type": "code",
   "execution_count": 5,
   "metadata": {
    "collapsed": true
   },
   "outputs": [],
   "source": [
    "pwm.ChangeDutyCycle(7)"
   ]
  },
  {
   "cell_type": "code",
   "execution_count": 9,
   "metadata": {},
   "outputs": [],
   "source": [
    "import time\n",
    "import math\n",
    "import RPi.GPIO as GPIO"
   ]
  },
  {
   "cell_type": "code",
   "execution_count": 48,
   "metadata": {},
   "outputs": [],
   "source": [
    "def raw_distance(sample_wait=0.00001):\n",
    "        print(str(datetime.now()))\n",
    "        sample = []\n",
    "        # setup input/output pins\n",
    "        GPIO.setwarnings(False)\n",
    "        GPIO.setmode(gpio.BCM)\n",
    "        GPIO.setup(18, GPIO.OUT)\n",
    "        GPIO.setup(25, GPIO.IN)\n",
    "        \n",
    "        for distance_reading in range(1):\n",
    "            GPIO.output(18, GPIO.LOW)\n",
    "            time.sleep(sample_wait)\n",
    "            GPIO.output(18, True)\n",
    "            time.sleep(0.00001)\n",
    "            GPIO.output(18, False)\n",
    "            flg = 1\n",
    "            while GPIO.input(25) == 0:\n",
    "                if flg < 200:\n",
    "                    sonar_signal_off = time.time()\n",
    "                    flg += 1\n",
    "                else:\n",
    "                    raise SystemError('Echo pulse was not received')\n",
    "            while GPIO.input(25) == 1:\n",
    "                sonar_signal_on = time.time()\n",
    "            time_passed = sonar_signal_on - sonar_signal_off\n",
    "            distance_cm = time_passed / 0.000058\n",
    "            sample.append(distance_cm)\n",
    "        sorted_sample = sorted(sample)\n",
    "        # Only cleanup the pins used to prevent clobbering\n",
    "        # any others in use by the program\n",
    "        GPIO.cleanup()\n",
    "        print(str(datetime.now()))\n",
    "        return sorted_sample[3 // 2]"
   ]
  },
  {
   "cell_type": "code",
   "execution_count": 49,
   "metadata": {},
   "outputs": [
    {
     "name": "stdout",
     "output_type": "stream",
     "text": [
      "2018-02-04 08:37:56.485906\n",
      "2018-02-04 08:37:56.489730\n"
     ]
    },
    {
     "ename": "IndexError",
     "evalue": "list index out of range",
     "output_type": "error",
     "traceback": [
      "\u001b[0;31m---------------------------------------------------------------------\u001b[0m",
      "\u001b[0;31mIndexError\u001b[0m                          Traceback (most recent call last)",
      "\u001b[0;32m<ipython-input-49-f68726f52fb6>\u001b[0m in \u001b[0;36m<module>\u001b[0;34m()\u001b[0m\n\u001b[0;32m----> 1\u001b[0;31m \u001b[0mraw_distance\u001b[0m\u001b[0;34m(\u001b[0m\u001b[0;34m)\u001b[0m\u001b[0;34m\u001b[0m\u001b[0m\n\u001b[0m",
      "\u001b[0;32m<ipython-input-48-52d3dba04be1>\u001b[0m in \u001b[0;36mraw_distance\u001b[0;34m(sample_wait)\u001b[0m\n\u001b[1;32m     31\u001b[0m         \u001b[0mGPIO\u001b[0m\u001b[0;34m.\u001b[0m\u001b[0mcleanup\u001b[0m\u001b[0;34m(\u001b[0m\u001b[0;34m)\u001b[0m\u001b[0;34m\u001b[0m\u001b[0m\n\u001b[1;32m     32\u001b[0m         \u001b[0mprint\u001b[0m\u001b[0;34m(\u001b[0m\u001b[0mstr\u001b[0m\u001b[0;34m(\u001b[0m\u001b[0mdatetime\u001b[0m\u001b[0;34m.\u001b[0m\u001b[0mnow\u001b[0m\u001b[0;34m(\u001b[0m\u001b[0;34m)\u001b[0m\u001b[0;34m)\u001b[0m\u001b[0;34m)\u001b[0m\u001b[0;34m\u001b[0m\u001b[0m\n\u001b[0;32m---> 33\u001b[0;31m         \u001b[0;32mreturn\u001b[0m \u001b[0msorted_sample\u001b[0m\u001b[0;34m[\u001b[0m\u001b[0;36m3\u001b[0m \u001b[0;34m//\u001b[0m \u001b[0;36m2\u001b[0m\u001b[0;34m]\u001b[0m\u001b[0;34m\u001b[0m\u001b[0m\n\u001b[0m",
      "\u001b[0;31mIndexError\u001b[0m: list index out of range"
     ]
    }
   ],
   "source": [
    "raw_distance()"
   ]
  },
  {
   "cell_type": "code",
   "execution_count": 50,
   "metadata": {},
   "outputs": [],
   "source": [
    "def raw_distance(sample_wait=0.00001):\n",
    "        print(str(datetime.now()))\n",
    "        sample = []\n",
    "        # setup input/output pins\n",
    "        GPIO.setwarnings(False)\n",
    "        GPIO.setmode(gpio.BCM)\n",
    "        GPIO.setup(18, GPIO.OUT)\n",
    "        GPIO.setup(25, GPIO.IN)\n",
    "        GPIO.output(18, GPIO.LOW)\n",
    "        time.sleep(sample_wait)\n",
    "        GPIO.output(18, True)\n",
    "        time.sleep(0.00001)\n",
    "        GPIO.output(18, False)\n",
    "        flg = 1\n",
    "        while GPIO.input(25) == 0:\n",
    "            if flg < 200:\n",
    "                sonar_signal_off = time.time()\n",
    "                flg += 1\n",
    "            else:\n",
    "                raise SystemError('Echo pulse was not received')\n",
    "        while GPIO.input(25) == 1:\n",
    "            sonar_signal_on = time.time()\n",
    "        time_passed = sonar_signal_on - sonar_signal_off\n",
    "        distance_cm = time_passed / 0.000058\n",
    "        GPIO.cleanup()\n",
    "        print(str(datetime.now()))\n",
    "        return distance_cm"
   ]
  },
  {
   "cell_type": "code",
   "execution_count": 51,
   "metadata": {},
   "outputs": [
    {
     "name": "stdout",
     "output_type": "stream",
     "text": [
      "2018-02-04 08:40:18.489632\n",
      "2018-02-04 08:40:18.495109\n"
     ]
    },
    {
     "data": {
      "text/plain": [
       "7.555402558425377"
      ]
     },
     "execution_count": 51,
     "metadata": {},
     "output_type": "execute_result"
    }
   ],
   "source": [
    "raw_distance()"
   ]
  },
  {
   "cell_type": "code",
   "execution_count": null,
   "metadata": {},
   "outputs": [],
   "source": []
  }
 ],
 "metadata": {
  "kernelspec": {
   "display_name": "Python 3",
   "language": "python",
   "name": "python3"
  },
  "language_info": {
   "codemirror_mode": {
    "name": "ipython",
    "version": 3
   },
   "file_extension": ".py",
   "mimetype": "text/x-python",
   "name": "python",
   "nbconvert_exporter": "python",
   "pygments_lexer": "ipython3",
   "version": "3.4.2"
  }
 },
 "nbformat": 4,
 "nbformat_minor": 2
}
