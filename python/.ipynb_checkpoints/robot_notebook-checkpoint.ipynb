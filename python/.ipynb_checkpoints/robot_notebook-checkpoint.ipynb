{
 "cells": [
  {
   "cell_type": "code",
   "execution_count": 4,
   "metadata": {
    "collapsed": true
   },
   "outputs": [],
   "source": [
    "import RPi.GPIO as gpio\n",
    "#import picamera\n",
    "import time"
   ]
  },
  {
   "cell_type": "code",
   "execution_count": 2,
   "metadata": {
    "collapsed": true
   },
   "outputs": [],
   "source": [
    "def init():\n",
    "    gpio.setmode(gpio.BCM)\n",
    "    gpio.setup(17, gpio.OUT)\n",
    "    gpio.setup(22, gpio.OUT)\n",
    "    gpio.setup(23, gpio.OUT)\n",
    "    gpio.setup(24, gpio.OUT)\n",
    "def forward(tf):\n",
    "    init()\n",
    "    gpio.output(17, True)\n",
    "    gpio.output(22, False)\n",
    "    gpio.output(23, False)\n",
    "    gpio.output(24, True)\n",
    "    time.sleep(tf)\n",
    "    gpio.cleanup()\n",
    "def reverse(tf):\n",
    "    init()\n",
    "    gpio.output(17, False)\n",
    "    gpio.output(22, True)\n",
    "    gpio.output(23, True)\n",
    "    gpio.output(24, False)\n",
    "    time.sleep(tf)\n",
    "    gpio.cleanup()\n",
    "def goleft(tf):\n",
    "    init()\n",
    "    gpio.output(17, False)\n",
    "    gpio.output(22, False)\n",
    "    gpio.output(23, False)\n",
    "    gpio.output(24, True)\n",
    "    time.sleep(tf)\n",
    "    gpio.cleanup()\n",
    "def goright(tf):\n",
    "    init()\n",
    "    gpio.output(17, True)\n",
    "    gpio.output(22, False)\n",
    "    gpio.output(23, False)\n",
    "    gpio.output(24, False)\n",
    "    time.sleep(tf)\n",
    "    gpio.cleanup()"
   ]
  },
  {
   "cell_type": "code",
   "execution_count": null,
   "metadata": {
    "collapsed": true
   },
   "outputs": [],
   "source": [
    "forward(1)"
   ]
  },
  {
   "cell_type": "code",
   "execution_count": null,
   "metadata": {
    "collapsed": true
   },
   "outputs": [],
   "source": [
    "reverse(1)"
   ]
  },
  {
   "cell_type": "code",
   "execution_count": null,
   "metadata": {
    "collapsed": true
   },
   "outputs": [],
   "source": [
    "goleft(1)"
   ]
  },
  {
   "cell_type": "code",
   "execution_count": 5,
   "metadata": {
    "collapsed": true
   },
   "outputs": [],
   "source": [
    "goright(1)"
   ]
  },
  {
   "cell_type": "code",
   "execution_count": 2,
   "metadata": {
    "collapsed": true
   },
   "outputs": [],
   "source": [
    "import RPi.GPIO as GPIO\n",
    "GPIO.setmode(GPIO.BOARD)"
   ]
  },
  {
   "cell_type": "code",
   "execution_count": 12,
   "metadata": {
    "collapsed": true
   },
   "outputs": [],
   "source": [
    "GPIO.setup(7, GPIO.OUT)\n",
    "pwm=GPIO.PWM(7,50)\n",
    "pwm.start(5)"
   ]
  },
  {
   "cell_type": "code",
   "execution_count": 15,
   "metadata": {
    "collapsed": true
   },
   "outputs": [],
   "source": [
    "pwm.ChangeDutyCycle(6)"
   ]
  },
  {
   "cell_type": "code",
   "execution_count": 3,
   "metadata": {},
   "outputs": [
    {
     "name": "stderr",
     "output_type": "stream",
     "text": [
      "/usr/local/lib/python3.4/dist-packages/ipykernel_launcher.py:1: RuntimeWarning: This channel is already in use, continuing anyway.  Use GPIO.setwarnings(False) to disable warnings.\n",
      "  \"\"\"Entry point for launching an IPython kernel.\n"
     ]
    }
   ],
   "source": [
    "GPIO.setup(13, GPIO.OUT)\n",
    "pwm=GPIO.PWM(13,50)\n",
    "pwm.start(5)\n",
    "pwm.ChangeDutyCycle(2)"
   ]
  },
  {
   "cell_type": "code",
   "execution_count": 5,
   "metadata": {
    "collapsed": true
   },
   "outputs": [],
   "source": [
    "pwm.ChangeDutyCycle(7)"
   ]
  },
  {
   "cell_type": "code",
   "execution_count": 1,
   "metadata": {},
   "outputs": [],
   "source": [
    "import time\n",
    "import math\n",
    "import RPi.GPIO as GPIO"
   ]
  },
  {
   "cell_type": "code",
   "execution_count": null,
   "metadata": {},
   "outputs": [],
   "source": []
  }
 ],
 "metadata": {
  "kernelspec": {
   "display_name": "Python 3",
   "language": "python",
   "name": "python3"
  },
  "language_info": {
   "codemirror_mode": {
    "name": "ipython",
    "version": 3
   },
   "file_extension": ".py",
   "mimetype": "text/x-python",
   "name": "python",
   "nbconvert_exporter": "python",
   "pygments_lexer": "ipython3",
   "version": "3.4.2"
  }
 },
 "nbformat": 4,
 "nbformat_minor": 2
}
